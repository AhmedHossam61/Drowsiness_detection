{
 "cells": [
  {
   "cell_type": "code",
   "execution_count": null,
   "metadata": {},
   "outputs": [
    {
     "name": "stdout",
     "output_type": "stream",
     "text": [
      "pygame 2.6.1 (SDL 2.28.4, Python 3.12.4)\n",
      "Hello from the pygame community. https://www.pygame.org/contribute.html\n"
     ]
    },
    {
     "data": {
      "text/plain": [
       "'\\nimport time\\nimport face_recognition\\nfrom threading import Thread\\ntutorial link : https://youtu.be/u7_34o_rs8o?si=dbzFq0jbhUL2SVCG\\n'"
      ]
     },
     "execution_count": 1,
     "metadata": {},
     "output_type": "execute_result"
    }
   ],
   "source": [
    "import cv2 \n",
    "from scipy.spatial import distance as dist\n",
    "import playsound\n",
    "import numpy as np\n",
    "import dlib\n",
    "import imutils\n",
    "from imutils import face_utils\n",
    "from pygame import mixer\n",
    "import argparse\n",
    "from imutils.video import VideoStream\n",
    "\n",
    "###***** Uncomment for RasPi *****###\n",
    "\n",
    "#from picamera2 import Picamera2\n",
    "\n",
    "\n",
    "\"\"\"\n",
    "import time\n",
    "import face_recognition\n",
    "from threading import Thread\n",
    "tutorial link : https://youtu.be/u7_34o_rs8o?si=dbzFq0jbhUL2SVCG\n",
    "\"\"\""
   ]
  },
  {
   "cell_type": "code",
   "execution_count": 2,
   "metadata": {},
   "outputs": [],
   "source": [
    "# Caculating the eye aspect ratio\n",
    "def EAR(eye):\n",
    "    #Eye points coordinates X,Y\n",
    "    A = dist.euclidean(eye[1] ,eye[5])\n",
    "    B = dist.euclidean(eye[2] ,eye[4])\n",
    "    C = dist.euclidean(eye[0] ,eye[3])\n",
    "    ear = (A+B)/(2*C)\n",
    "    return ear"
   ]
  },
  {
   "cell_type": "code",
   "execution_count": 3,
   "metadata": {},
   "outputs": [],
   "source": [
    "threshold = 0.25\n",
    "frame_check = 20\n",
    "detect = dlib.get_frontal_face_detector() #more faster than the cascaded method & uses svm\n",
    "predict = dlib.shape_predictor(\"shape_predictor_68_face_landmarks.dat\")"
   ]
  },
  {
   "cell_type": "code",
   "execution_count": 8,
   "metadata": {},
   "outputs": [],
   "source": [
    "(lStart, lEnd) = face_utils.FACIAL_LANDMARKS_68_IDXS[\"left_eye\"]\n",
    "(rStart, rEnd) = face_utils.FACIAL_LANDMARKS_68_IDXS[\"right_eye\"]\n",
    "# Option 0\n",
    "cap = cv2.VideoCapture( 0 ) #to select the first camera if multiple cameras exist\n",
    "\n",
    "# OPTION 1\n",
    "# ap = argparse.ArgumentParser()\n",
    "# ap.add_argument(\"-w\", \"--webcam\", type=int, default=0,\n",
    "#                 help=\"index of webcam on system\")\n",
    "# args = vars(ap.parse_args())\n",
    "# vs = VideoStream(src=args[\"webcam\"]).start() \n",
    "\n",
    "# Option 2\n",
    "# vs= VideoStream(usePiCamera=True).start()\n",
    "\n",
    "# Option 3\n",
    "# camera = Picamera2()\n",
    "# camera_config = camera.create_preview_configuration(main={\"size\": (640, 480)})\n",
    "# camera.configure(camera_config)\n",
    "# camera.start()\n",
    "\n",
    "# Option 4\n",
    "# camera = Picamera2()\n",
    "# camera.preview_configuration.main.size = (800,800)\n",
    "# camera.preview_configuration.main.format = \"RGB888\"\n",
    "# camera.preview_configuration.align()\n",
    "# camera.configure(\"preview\")\n",
    "# camera.start()\n",
    "\n",
    "flag = 0\n"
   ]
  },
  {
   "cell_type": "code",
   "execution_count": 6,
   "metadata": {},
   "outputs": [],
   "source": [
    "#mixer Should be initialized to work\n",
    "mixer.init()\n",
    "mixer.music.load(\"music.wav\")"
   ]
  },
  {
   "cell_type": "code",
   "execution_count": 39,
   "metadata": {},
   "outputs": [],
   "source": [
    "while True:\n",
    "    ret, frame=cap.read()\n",
    "    if not ret:\n",
    "        print(\"Frame not read\")\n",
    "        break\n",
    "    \n",
    "    \n",
    "    # For both option 1 and 2 for Ras_PI\n",
    "    # frame = vs.read()\n",
    "    \n",
    "    #For Option 3 and 4\n",
    "    #frame= camera.capture_array()\n",
    "\n",
    "    frame = imutils.resize(frame, width=450)\n",
    "    gray = cv2.cvtColor(frame, cv2.COLOR_BGR2GRAY)\n",
    "    subjects = detect(gray , 0)\n",
    "    \n",
    "    for subject in subjects:\n",
    "        shape = predict(gray,subject)\n",
    "        shape = face_utils.shape_to_np(shape)\n",
    "        leftEye = shape[lStart: lEnd]\n",
    "        rightEye = shape[rStart: rEnd]\n",
    "        \n",
    "        #calculating Eye Aspect Ratio\n",
    "        leftEAR = EAR(leftEye)\n",
    "        rightEAR = EAR(rightEye)\n",
    "        ear = (leftEAR + rightEAR) / 2.0\n",
    "        \n",
    "        #these next 4 lines for drawing a green line around the eye\n",
    "        leftEyeHull = cv2.convexHull(leftEye)\n",
    "        rightEyeHull = cv2.convexHull(rightEye)\n",
    "        cv2.drawContours(frame, [leftEyeHull], -1, (0, 255, 0), 1)\n",
    "        cv2.drawContours(frame, [rightEyeHull], -1, (0, 255, 0), 1)\n",
    "        \n",
    "        #Drowsiness detection\n",
    "        if ear <threshold :\n",
    "            flag +=1\n",
    "            print(flag)\n",
    "            if flag >= frame_check:\n",
    "                cv2.putText(frame, \"************alert********\" , \n",
    "                (10 , 30 ) ,cv2.FONT_HERSHEY_SIMPLEX, 0.7, (0, 0, 255) , 2)\n",
    "                \n",
    "                cv2.putText(frame, \"****************ALERT!****************\", (10,325),\n",
    "\t\t\t\tcv2.FONT_HERSHEY_SIMPLEX, 0.7, (0, 0, 255), 2)\n",
    "                mixer.music.play()\n",
    "        else: \n",
    "            flag = 0\n",
    "    cv2.imshow(\"Frame\" , frame)\n",
    "    cv2.waitKey(1) #display every 1 mS1\n",
    "    key = cv2.waitKey(1) & 0xFF\n",
    "    if key == ord(\"q\"):\n",
    "        break\n",
    "    \n",
    "cv2.destroyAllWindows()\n",
    "cap.release()"
   ]
  },
  {
   "cell_type": "code",
   "execution_count": null,
   "metadata": {},
   "outputs": [],
   "source": []
  },
  {
   "cell_type": "code",
   "execution_count": null,
   "metadata": {},
   "outputs": [],
   "source": []
  },
  {
   "cell_type": "code",
   "execution_count": null,
   "metadata": {},
   "outputs": [],
   "source": []
  }
 ],
 "metadata": {
  "kernelspec": {
   "display_name": "base",
   "language": "python",
   "name": "python3"
  },
  "language_info": {
   "codemirror_mode": {
    "name": "ipython",
    "version": 3
   },
   "file_extension": ".py",
   "mimetype": "text/x-python",
   "name": "python",
   "nbconvert_exporter": "python",
   "pygments_lexer": "ipython3",
   "version": "3.12.4"
  }
 },
 "nbformat": 4,
 "nbformat_minor": 2
}
